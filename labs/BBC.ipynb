{
 "cells": [
  {
   "cell_type": "code",
   "execution_count": 1,
   "id": "bcdbaba1-fb89-40de-87c7-22c8a6c91986",
   "metadata": {},
   "outputs": [],
   "source": [
    "import requests\n",
    "from bs4 import BeautifulSoup\n",
    "import pandas as pd\n",
    "import re\n",
    "\n",
    "url = 'https://www.bbc.com/news/world-europe-60379833'\n",
    "\n",
    "downloaded_html = requests.get(url)\n",
    "\n",
    "soup = BeautifulSoup(downloaded_html.text)\n",
    "\n",
    "with open('bbc.html', 'w', encoding=\"utf-8\") as file: \n",
    "    file.write(soup.prettify()) \n"
   ]
  },
  {
   "cell_type": "code",
   "execution_count": 2,
   "id": "e8952ad7-dcc4-4a55-a09e-ff7a0c43189f",
   "metadata": {},
   "outputs": [
    {
     "name": "stdout",
     "output_type": "stream",
     "text": [
      "Ukraine crisis: Russia says diplomatic solution still possible\n"
     ]
    }
   ],
   "source": [
    "title = soup.select('#main-heading')[0]\n",
    "print(title.text)"
   ]
  },
  {
   "cell_type": "code",
   "execution_count": 3,
   "id": "99d601f0-cf1f-45a1-b2a6-28eb92682315",
   "metadata": {},
   "outputs": [
    {
     "name": "stdout",
     "output_type": "stream",
     "text": [
      "Russia has said that a diplomatic solution to its escalating standoff with the West is still possible.\n",
      "In a televised meeting, President Vladimir Putin was told that diplomatic talks had not yet been been exhausted.\n",
      "The comments come after more than a dozen nations urged their citizens to leave Ukraine, and the US said aerial bombardments could begin \"at any time\".\n",
      "Russia has always denied plans to invade Ukraine, despite massing more than 100,000 troops on the border.\n",
      "Separately, UK Prime Minister Boris Johnson said there was still time for Russia to \"step back\" from the situation with Ukraine, urging all sides to carry on talking.\n",
      "A statement said Mr Johnson would hold a Cobra meeting on Tuesday to discuss the UK's response to the pressures.\n",
      "UK Foreign Secretary Liz Truss said the latest intelligence suggested \"Russia could invade at any moment\".\n",
      "LIVE: Russian invasion fears grow as foreigners flee UkraineEXPLAINER: Is Russia preparing to invade Ukraine? ANALYSIS: Five ways out of conflictON THE GROUND: A Ukrainian city unifies against Russia's threats \n",
      "During another socially-distanced TV appearance on Monday, Mr Putin asked his Foreign Minister Sergei Lavrov if there was a chance to reach an agreement with the West, or whether the diplomacy was \"an attempt to drag us into an endless negotiation process?\"\n",
      "Mr Lavrov replied that the \"possibilities are far from being exhausted, they certainly should not continue indefinitely, but I would suggest continuing and ramping them up\".\n",
      "The comments are being seen as a clear concession that talks could ease the tensions. But analysts say that without either side moving over the thorny issue of Ukraine potentially joining Nato, there is still deadlock.\n",
      "The Kremlin says it cannot accept that Ukraine - a former Soviet republic with deep social and cultural ties with Russia - could one day join Nato, and has demanded that this be ruled out. Nato's members have rejected this request.\n",
      "Also at the Kremlin meeting - in what some observers see as another possible route to easing tensions - Russian Defence Minister Sergei Shoigu told Mr Putin that some of the country's military drills near Ukraine's border had already ended and others were coming to a close.\n",
      "Russia is holding massive joint exercises with Belarus, Ukraine's northern neighbour. Moscow is also staging Navy shooting drills in the Black Sea and the Sea of Azov - to the south of Ukraine.\n",
      "Meanwhile, Germany's Chancellor Olaf Scholz landed in Kyiv on Monday for crisis talks - the latest Western leader to visit the region to show unity with Ukraine. \n",
      "Mr Scholz said there was \"no reasonable justification\" for the Russian military build-up on Ukraine's borders and that Western countries would impose \"very far-reaching and effective sanctions\" against Russia if it invaded.\n",
      "Also on Monday the US said it had sent eight more F-15 fighter jets to Poland to take part in Nato air patrols. The US earlier said an extra 3,000 soldiers would be sent to Poland in the next few days to boost Nato military strength in the region.\n",
      "In some quarters of the world, President Putin's question would have elicited a collective intake of breath. \n",
      "The Russian President asked his Foreign Minister Sergei Lavrov whether there was a chance of reaching an agreement on Russia's security concerns or if this was simply endless negotiation. Many would fear what would happen if Mr Lavrov said no. His answer has made some feel slightly more reassured - there is a chance. \n",
      "Throughout the weeks of diplomacy, one of the West's biggest fears is what happens if Russia walks away from the diplomatic table. \n",
      "Politicians have been arriving in sequence in Moscow, creating a metaphorical human chain to keep the diplomatic ball in the air. However, it's still unclear what both sides can agree on to break the deadlock and deescalate the situation. \n",
      "Russia says it wants a guarantee Nato won't allow Ukraine to join the alliance, but Nato won't give in to that. Neither side has moved on this issue so while diplomacy continues, so does the deadlock on a deal. \n"
     ]
    }
   ],
   "source": [
    "article = soup.find_all(\"div\", class_=re.compile('.+RichTextContainer.+'))\n",
    "\n",
    "for paragraph in article:\n",
    "    if \"@bbc.co.uk\" in paragraph.text:\n",
    "        break\n",
    "    print(paragraph.text)"
   ]
  }
 ],
 "metadata": {
  "kernelspec": {
   "display_name": "Python 3 (ipykernel)",
   "language": "python",
   "name": "python3"
  },
  "language_info": {
   "codemirror_mode": {
    "name": "ipython",
    "version": 3
   },
   "file_extension": ".py",
   "mimetype": "text/x-python",
   "name": "python",
   "nbconvert_exporter": "python",
   "pygments_lexer": "ipython3",
   "version": "3.10.2"
  }
 },
 "nbformat": 4,
 "nbformat_minor": 5
}
