{
 "cells": [
  {
   "cell_type": "code",
   "execution_count": 3,
   "id": "d04108de-2490-451e-ab34-51f1e37980df",
   "metadata": {},
   "outputs": [],
   "source": [
    "import requests\n",
    "from bs4 import BeautifulSoup\n",
    "import pandas as pd\n",
    "import re\n",
    "\n",
    "url = 'https://tass.ru/mezhdunarodnaya-panorama/13701779'\n",
    "\n",
    "downloaded_html = requests.get(url)\n",
    "\n",
    "soup = BeautifulSoup(downloaded_html.text)\n",
    "\n",
    "with open('tass.html', 'w', encoding=\"utf-8\") as file: \n",
    "    file.write(soup.prettify()) \n"
   ]
  },
  {
   "cell_type": "code",
   "execution_count": 4,
   "id": "324d7b5b-acef-483a-94ba-b4a909acbbc2",
   "metadata": {},
   "outputs": [
    {
     "name": "stdout",
     "output_type": "stream",
     "text": [
      "ОБСЕ подтвердила проведение запрошенной Киевом встречи по Венскому документу 15 февраля\n",
      "\n",
      "\n"
     ]
    }
   ],
   "source": [
    "title = soup.select('h1.news-header__title')[0]\n",
    "print(title.text)"
   ]
  },
  {
   "cell_type": "code",
   "execution_count": 5,
   "id": "00cd43b7-049a-41a6-94aa-4318b86d9304",
   "metadata": {},
   "outputs": [
    {
     "name": "stdout",
     "output_type": "stream",
     "text": [
      "Консультации пройдут под председательством Польши в ОБСЕ\n"
     ]
    }
   ],
   "source": [
    "subtitle = soup.select('div.news-header__lead')[0]\n",
    "print(subtitle.text)"
   ]
  },
  {
   "cell_type": "code",
   "execution_count": 6,
   "id": "938a0990-fa4e-4167-b155-efeeadcb8675",
   "metadata": {},
   "outputs": [
    {
     "name": "stdout",
     "output_type": "stream",
     "text": [
      "<div class=\"text-block\"><p>ВЕНА, 14 февраля. /Корр. ТАСС Дмитрий Валеев/. Консультации по запросу Украины представителей государств - участников ОБСЕ в соответствии с Венским документом (ВД-2011) о мерах укрепления доверия и безопасности для прояснения ситуации с перемещением войск вдоль российско-украинской границы состоятся 15 февраля. Об этом сообщили в понедельник корреспонденту ТАСС в председательстве Польши в ОБСЕ.</p>\n",
      "</div>\n",
      "<div class=\"text-block\">\n",
      "<p>Ранее источник в ОБСЕ уже сообщил корреспонденту ТАСС, что соответствующая встреча пройдет 15 февраля.</p>\n",
      "<p>\"Встреча пройдет во вторник в соответствии с пунктом 16.2. Венского документа\", - отметил представитель польского председательства ОБСЕ в ответ на соответствующий вопрос.</p>\n",
      "<p>По его словам, во встрече примут участие запросившее консультации государство, государство, к которому обращен запрос, а также все заинтересованные государства. Консультации пройдут под председательством Польши в ОБСЕ.</p>\n",
      "<p>13 февраля глава МИД Украины Дмитрий Кулеба сообщил, что Россия не ответила на украинский запрос в рамках Венского документа с требованием разъяснения передислокации войск вдоль украинской границы, поэтому Киев в течение 48 часов просит о встрече в ОБСЕ для обсуждения этого вопроса.</p>\n",
      "</div>\n"
     ]
    }
   ],
   "source": [
    "article = soup.select('div.text-block')\n",
    "\n",
    "for paragraph in article:\n",
    "    print(paragraph.text)"
   ]
  },
  {
   "cell_type": "code",
   "execution_count": null,
   "id": "e9c1b848-17bc-4878-95c3-da26714397b8",
   "metadata": {},
   "outputs": [],
   "source": []
  }
 ],
 "metadata": {
  "kernelspec": {
   "display_name": "Python 3 (ipykernel)",
   "language": "python",
   "name": "python3"
  },
  "language_info": {
   "codemirror_mode": {
    "name": "ipython",
    "version": 3
   },
   "file_extension": ".py",
   "mimetype": "text/x-python",
   "name": "python",
   "nbconvert_exporter": "python",
   "pygments_lexer": "ipython3",
   "version": "3.10.2"
  }
 },
 "nbformat": 4,
 "nbformat_minor": 5
}
