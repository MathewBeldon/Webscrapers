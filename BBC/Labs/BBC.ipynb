{
 "cells": [
  {
   "cell_type": "code",
   "execution_count": 5,
   "id": "bcdbaba1-fb89-40de-87c7-22c8a6c91986",
   "metadata": {},
   "outputs": [],
   "source": [
    "import requests\n",
    "from bs4 import BeautifulSoup\n",
    "import pandas as pd\n",
    "import re\n",
    "\n",
    "url = 'https://www.bbc.co.uk/news/world-europe-60365017'\n",
    "\n",
    "downloaded_html = requests.get(url)\n",
    "\n",
    "soup = BeautifulSoup(downloaded_html.text)\n",
    "\n",
    "with open('bbc.html', 'w', encoding=\"utf-8\") as file: \n",
    "    file.write(soup.prettify()) \n"
   ]
  },
  {
   "cell_type": "code",
   "execution_count": 6,
   "id": "e8952ad7-dcc4-4a55-a09e-ff7a0c43189f",
   "metadata": {},
   "outputs": [
    {
     "name": "stdout",
     "output_type": "stream",
     "text": [
      "Ukraine tensions: US defends evacuating embassy as Zelensky urges calm\n"
     ]
    }
   ],
   "source": [
    "title = soup.select('#main-heading')[0]\n",
    "print(title.text)"
   ]
  },
  {
   "cell_type": "code",
   "execution_count": 7,
   "id": "99d601f0-cf1f-45a1-b2a6-28eb92682315",
   "metadata": {},
   "outputs": [
    {
     "name": "stdout",
     "output_type": "stream",
     "text": [
      "US Secretary of State Antony Blinken has said the \"imminent\" threat of Russian military action in Ukraine justifies evacuating the US embassy in Kyiv.\n",
      "His words came after Ukraine's president urged calm, saying the biggest enemy was panic.\n",
      "More than a dozen countries have urged their citizens to leave Ukraine. \n",
      "Moscow, with more than 100,000 troops near the border, has denied it plans to invade.\n",
      "The Kremlin's top foreign policy advisor, Yuri Ushakov, has dismissed US warnings of an attack, saying \"hysteria has reached its peak\".\n",
      "The crisis comes eight years after Russia annexed Ukraine's southern Crimea peninsula. Since then, Ukraine's military has been locked in a war with Russian-backed rebels in eastern areas near Russia's borders.\n",
      "'We don't have the option to leave Ukraine'Is Russia preparing to invade Ukraine? Five ways out of Ukraine conflict\n",
      "President Joe Biden spoke to Ukrainian President Volodymyr Zelensky on Sunday by phone. The two leaders \"agreed on the importance of continuing to pursue diplomacy and deterrence\", according to the White House.\n",
      "It came after Mr Biden's phone call with Russian President Vladimir Putin on Saturday, when he warned of \"swift and severe costs\" if Russia sends in troops.\n",
      "Meanwhile, UK Defence Secretary Ben Wallace compared recent Western diplomatic efforts to stop an invasion to the appeasement of Nazi Germany.\n",
      "Mr Wallace told the Sunday Times newspaper \"there's a whiff of Munich in the air\", a reference to an agreement with Hitler that failed to prevent World War Two.\n",
      "Ukraine's ambassador to the UK Vadym Prystaiko however criticised Mr Wallace's comments.\n",
      "\"It's not the best time for us to offend our partners in the world, reminding them of this act which actually [brought] war,\" he told BBC Radio 4's Broadcasting House programme.\n",
      "The UK, US and Germany are among several countries who have urged their nationals to get out of Ukraine immediately.\n",
      "The US decision to evacuate most of its embassy staff in Kyiv was followed by similar moves by Canada and Australia. All three nations have instead shifted operations to the western city of Lviv, near the Polish border, although the UK ambassador has said she will stay in the Ukrainian capital with a core team.\n",
      "Mr Blinken said the risk of military action was \"high enough and the threat [was] imminent enough\" that the evacuation was \"the prudent thing to do\".\n",
      "But earlier President Zelensky had urged calm, saying: \"Right now, the people's biggest enemy is panic.\"\n",
      "Mr Zelensky said that if Western powers had any firm evidence of an impending invasion, he had yet to see it. \n",
      "A Ukrainian city unifies against Russia's threats Ukraine's famine memories fuel resentment of Kremlin\n",
      "The BBC's Zhanna Bezpiatchuk says there are no major signs of panic in Kyiv or other major Ukrainian cities. However, she added that Ukrainians are starting to take the threat from Russia increasingly seriously and are taking their own contingency measures.\n",
      "An emergency evacuation plan for Kyiv's three million residents has been drawn up by the capital's mayor's office as a precaution.\n",
      "The White House has warned that an invasion could happen at any time, and could begin with bombing from the air. \n",
      "Meanwhile Dutch airline KLM announced on Saturday it would indefinitely halt all flights to Ukraine in light of the tensions. The airline has not flown over eastern parts of Ukraine or Crimea since 2014. German carrier Lufthansa has said it is considering suspending flights. \n",
      "An adviser to the Ukrainian president's chief of staff told Reuters news agency the country \"sees no point\" in closing its airspace, calling the idea \"nonsense\". \n",
      "But later on Sunday the head of Ukraine's air traffic control advised airlines to avoid a \"potentially dangerous zone\" over the Black Sea - where Russian forces are holding their largest naval drills in years - between 14-19 February.\n",
      "He stressed however that Ukrainian airspace \"is currently open and available for flight planning\".\n",
      "Tensions have steadily increased as Russia has continued to deploy troops along Ukraine's eastern border. \n",
      "The Kremlin says it cannot accept that Ukraine - a former Soviet republic with deep social and cultural ties with Russia - could one day join the Western defence alliance Nato, and has demanded that this be ruled out.\n",
      "The US has rejected that, saying that as a sovereign nation Ukraine should be free to decide its own security alliances.\n"
     ]
    }
   ],
   "source": [
    "article = soup.find_all(\"div\", class_=re.compile('.+RichTextContainer.+'))\n",
    "\n",
    "for paragraph in article:\n",
    "    if \"@bbc.co.uk\" in paragraph.text:\n",
    "        break\n",
    "    print(paragraph.text)"
   ]
  },
  {
   "cell_type": "code",
   "execution_count": null,
   "id": "ecd30764-bb8a-46c9-8005-07c1b9a51b67",
   "metadata": {},
   "outputs": [],
   "source": []
  }
 ],
 "metadata": {
  "kernelspec": {
   "display_name": "Python 3 (ipykernel)",
   "language": "python",
   "name": "python3"
  },
  "language_info": {
   "codemirror_mode": {
    "name": "ipython",
    "version": 3
   },
   "file_extension": ".py",
   "mimetype": "text/x-python",
   "name": "python",
   "nbconvert_exporter": "python",
   "pygments_lexer": "ipython3",
   "version": "3.10.2"
  }
 },
 "nbformat": 4,
 "nbformat_minor": 5
}
