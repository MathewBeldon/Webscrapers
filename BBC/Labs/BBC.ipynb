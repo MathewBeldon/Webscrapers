{
 "cells": [
  {
   "cell_type": "code",
   "execution_count": 22,
   "id": "bcdbaba1-fb89-40de-87c7-22c8a6c91986",
   "metadata": {},
   "outputs": [],
   "source": [
    "import requests\n",
    "from bs4 import BeautifulSoup\n",
    "import pandas as pd\n",
    "import re\n",
    "\n",
    "url = 'https://www.bbc.com/news/uk-england-stoke-staffordshire-60366949'\n",
    "\n",
    "downloaded_html = requests.get(url)\n",
    "\n",
    "soup = BeautifulSoup(downloaded_html.text)\n",
    "\n",
    "with open('bbc.html', 'w', encoding=\"utf-8\") as file: \n",
    "    file.write(soup.prettify()) \n"
   ]
  },
  {
   "cell_type": "code",
   "execution_count": 23,
   "id": "e8952ad7-dcc4-4a55-a09e-ff7a0c43189f",
   "metadata": {},
   "outputs": [
    {
     "name": "stdout",
     "output_type": "stream",
     "text": [
      "NHS hospital doctor arrested on suspicion of sexual assault\n"
     ]
    }
   ],
   "source": [
    "title = soup.select('#main-heading')[0]\n",
    "print(title.text)"
   ]
  },
  {
   "cell_type": "code",
   "execution_count": 25,
   "id": "99d601f0-cf1f-45a1-b2a6-28eb92682315",
   "metadata": {},
   "outputs": [
    {
     "name": "stdout",
     "output_type": "stream",
     "text": [
      "Two NHS hospital trusts are working with police after a doctor was arrested on suspicion of sexual assault.\n",
      "Staffordshire Police has launched a major incident review of the doctor's work at hospitals in Dudley, West Midlands, and Stoke-on-Trent, The Sunday Times reported.\n",
      "The force said the 34-year-old man from the West Midlands was arrested in December and released on bail.\n",
      "It is reviewing an investigation into the same suspect it undertook in 2018.\n",
      "The doctor was suspended from seeing patients at the Royal Stoke University Hospital in Staffordshire when the parents of a vulnerable female raised concerns about his examination of her, the Sunday Times reported.\n",
      "The case was referred to police in 2018 who said there was \"insufficient evidence to take further action\" at the time.  \n",
      "The Staffordshire force has now reported itself to the Independent Office for Police Conduct.\n",
      "University Hospitals of North Midlands NHS Trust, which runs the Royal Stoke, said it was working with police and had set up a helpline for any patient and guardian who may have concerns.\n",
      "The Sunday Times reported the alarm was then raised about the doctor while he was working at Russells Hall Hospital in Dudley, and that he was excluded from the hospital trust in March last year.\n",
      "Julian Hobbs, medical director of the Dudley Group NHS Foundation Trust which runs the hospital, said it was \"working closely\" with Staffordshire Police on the review and confirmed the individual no longer worked there. \n",
      "The police review, named Operation Anzu, will be looking at hundreds of files, including those of vulnerable adults, with at least 109 identified as cases of concern, the paper said.\n",
      "Stoke-on-Trent South MP, Jack Brereton, said the allegations were \"extremely concerning\".\n",
      "\"I have spoken with the chief executive of the Royal Stoke and I know that they're taking it extremely seriously,\" he said. \n",
      "\"They've written to all those who may have been affected already so I know they are looking into this and there is a full police investigation now under way.\"\n",
      "The Care Quality Commission said it was aware of an investigation \"into a member of staff who worked at both trusts\". \n",
      "Its deputy chief inspector of hospitals, Fiona Allinson, said: \"We continue to liaise with the police and both trusts regarding these concerns to ensure people's safety.\"\n",
      "The Sunday Times said the doctor rejected any allegations he had committed a criminal act and was co-operating with the investigations.\n"
     ]
    }
   ],
   "source": [
    "article = soup.find_all(\"div\", class_=re.compile('.+RichTextContainer.+'))\n",
    "\n",
    "for paragraph in article:\n",
    "    if \"@bbc.co.uk\" in paragraph.text:\n",
    "        break\n",
    "    print(paragraph.text)"
   ]
  },
  {
   "cell_type": "code",
   "execution_count": null,
   "id": "ecd30764-bb8a-46c9-8005-07c1b9a51b67",
   "metadata": {},
   "outputs": [],
   "source": []
  }
 ],
 "metadata": {
  "kernelspec": {
   "display_name": "Python 3 (ipykernel)",
   "language": "python",
   "name": "python3"
  },
  "language_info": {
   "codemirror_mode": {
    "name": "ipython",
    "version": 3
   },
   "file_extension": ".py",
   "mimetype": "text/x-python",
   "name": "python",
   "nbconvert_exporter": "python",
   "pygments_lexer": "ipython3",
   "version": "3.10.2"
  }
 },
 "nbformat": 4,
 "nbformat_minor": 5
}
